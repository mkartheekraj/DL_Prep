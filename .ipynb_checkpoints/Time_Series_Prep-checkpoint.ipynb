{
 "cells": [
  {
   "cell_type": "code",
   "execution_count": 331,
   "id": "8efc58de-90f0-48f5-bc5d-b9657f3c800e",
   "metadata": {},
   "outputs": [],
   "source": [
    "import pandas as pd\n",
    "import numpy as np \n",
    "import plotly as plt\n",
    "import seaborn as sn"
   ]
  },
  {
   "cell_type": "code",
   "execution_count": 332,
   "id": "70ea9cfb-0bc0-4ca7-ba0f-9cb4a74db313",
   "metadata": {},
   "outputs": [],
   "source": [
    "Sales_data=pd.read_csv('/home/kartheekraj/Timeseries/Deep_learning/Time_Series_Prep/DL_Prep/sales.csv', parse_dates=['date'])\n"
   ]
  },
  {
   "cell_type": "code",
   "execution_count": 333,
   "id": "2e6a8aa8-f052-4e41-ba86-b80c3667993d",
   "metadata": {},
   "outputs": [],
   "source": [
    "df=Sales_data.copy()"
   ]
  },
  {
   "cell_type": "code",
   "execution_count": 334,
   "id": "1c757505-9e43-45a8-9061-c8a4c04d54eb",
   "metadata": {},
   "outputs": [
    {
     "data": {
      "text/html": [
       "<div>\n",
       "<style scoped>\n",
       "    .dataframe tbody tr th:only-of-type {\n",
       "        vertical-align: middle;\n",
       "    }\n",
       "\n",
       "    .dataframe tbody tr th {\n",
       "        vertical-align: top;\n",
       "    }\n",
       "\n",
       "    .dataframe thead th {\n",
       "        text-align: right;\n",
       "    }\n",
       "</style>\n",
       "<table border=\"1\" class=\"dataframe\">\n",
       "  <thead>\n",
       "    <tr style=\"text-align: right;\">\n",
       "      <th></th>\n",
       "      <th>date</th>\n",
       "      <th>store_id</th>\n",
       "      <th>cat_id</th>\n",
       "      <th>sales</th>\n",
       "    </tr>\n",
       "  </thead>\n",
       "  <tbody>\n",
       "    <tr>\n",
       "      <th>0</th>\n",
       "      <td>2011-01-29</td>\n",
       "      <td>TX_1</td>\n",
       "      <td>FOODS</td>\n",
       "      <td>3950.35</td>\n",
       "    </tr>\n",
       "    <tr>\n",
       "      <th>1</th>\n",
       "      <td>2011-01-30</td>\n",
       "      <td>TX_1</td>\n",
       "      <td>FOODS</td>\n",
       "      <td>3844.97</td>\n",
       "    </tr>\n",
       "    <tr>\n",
       "      <th>2</th>\n",
       "      <td>2011-01-31</td>\n",
       "      <td>TX_1</td>\n",
       "      <td>FOODS</td>\n",
       "      <td>2888.03</td>\n",
       "    </tr>\n",
       "    <tr>\n",
       "      <th>3</th>\n",
       "      <td>2011-02-01</td>\n",
       "      <td>TX_1</td>\n",
       "      <td>FOODS</td>\n",
       "      <td>3631.28</td>\n",
       "    </tr>\n",
       "    <tr>\n",
       "      <th>4</th>\n",
       "      <td>2011-02-02</td>\n",
       "      <td>TX_1</td>\n",
       "      <td>FOODS</td>\n",
       "      <td>3072.18</td>\n",
       "    </tr>\n",
       "  </tbody>\n",
       "</table>\n",
       "</div>"
      ],
      "text/plain": [
       "        date store_id cat_id    sales\n",
       "0 2011-01-29     TX_1  FOODS  3950.35\n",
       "1 2011-01-30     TX_1  FOODS  3844.97\n",
       "2 2011-01-31     TX_1  FOODS  2888.03\n",
       "3 2011-02-01     TX_1  FOODS  3631.28\n",
       "4 2011-02-02     TX_1  FOODS  3072.18"
      ]
     },
     "execution_count": 334,
     "metadata": {},
     "output_type": "execute_result"
    }
   ],
   "source": [
    "df.head()"
   ]
  },
  {
   "cell_type": "code",
   "execution_count": 335,
   "id": "de2a2cea-55ee-4607-a34a-940ee296a371",
   "metadata": {},
   "outputs": [
    {
     "data": {
      "text/html": [
       "<div>\n",
       "<style scoped>\n",
       "    .dataframe tbody tr th:only-of-type {\n",
       "        vertical-align: middle;\n",
       "    }\n",
       "\n",
       "    .dataframe tbody tr th {\n",
       "        vertical-align: top;\n",
       "    }\n",
       "\n",
       "    .dataframe thead th {\n",
       "        text-align: right;\n",
       "    }\n",
       "</style>\n",
       "<table border=\"1\" class=\"dataframe\">\n",
       "  <thead>\n",
       "    <tr style=\"text-align: right;\">\n",
       "      <th></th>\n",
       "      <th>date</th>\n",
       "      <th>store_id</th>\n",
       "      <th>cat_id</th>\n",
       "      <th>sales</th>\n",
       "    </tr>\n",
       "  </thead>\n",
       "  <tbody>\n",
       "    <tr>\n",
       "      <th>58225</th>\n",
       "      <td>2016-05-18</td>\n",
       "      <td>WI_3</td>\n",
       "      <td>HOUSEHOLD</td>\n",
       "      <td>2225.31</td>\n",
       "    </tr>\n",
       "    <tr>\n",
       "      <th>58226</th>\n",
       "      <td>2016-05-19</td>\n",
       "      <td>WI_3</td>\n",
       "      <td>HOUSEHOLD</td>\n",
       "      <td>2468.50</td>\n",
       "    </tr>\n",
       "    <tr>\n",
       "      <th>58227</th>\n",
       "      <td>2016-05-20</td>\n",
       "      <td>WI_3</td>\n",
       "      <td>HOUSEHOLD</td>\n",
       "      <td>3664.25</td>\n",
       "    </tr>\n",
       "    <tr>\n",
       "      <th>58228</th>\n",
       "      <td>2016-05-21</td>\n",
       "      <td>WI_3</td>\n",
       "      <td>HOUSEHOLD</td>\n",
       "      <td>3487.02</td>\n",
       "    </tr>\n",
       "    <tr>\n",
       "      <th>58229</th>\n",
       "      <td>2016-05-22</td>\n",
       "      <td>WI_3</td>\n",
       "      <td>HOUSEHOLD</td>\n",
       "      <td>3566.90</td>\n",
       "    </tr>\n",
       "  </tbody>\n",
       "</table>\n",
       "</div>"
      ],
      "text/plain": [
       "            date store_id     cat_id    sales\n",
       "58225 2016-05-18     WI_3  HOUSEHOLD  2225.31\n",
       "58226 2016-05-19     WI_3  HOUSEHOLD  2468.50\n",
       "58227 2016-05-20     WI_3  HOUSEHOLD  3664.25\n",
       "58228 2016-05-21     WI_3  HOUSEHOLD  3487.02\n",
       "58229 2016-05-22     WI_3  HOUSEHOLD  3566.90"
      ]
     },
     "execution_count": 335,
     "metadata": {},
     "output_type": "execute_result"
    }
   ],
   "source": [
    "df.tail()"
   ]
  },
  {
   "cell_type": "code",
   "execution_count": 336,
   "id": "be93c1b6-d305-4b56-9a15-11ea0e8af2b2",
   "metadata": {},
   "outputs": [
    {
     "data": {
      "text/plain": [
       "array(['TX_1', 'TX_2', 'TX_3', 'CA_1', 'CA_2', 'CA_3', 'CA_4', 'WI_1',\n",
       "       'WI_2', 'WI_3'], dtype=object)"
      ]
     },
     "execution_count": 336,
     "metadata": {},
     "output_type": "execute_result"
    }
   ],
   "source": [
    "df.store_id.unique()"
   ]
  },
  {
   "cell_type": "code",
   "execution_count": 337,
   "id": "d008397f-1e37-4de8-afad-8c7edf98a1de",
   "metadata": {},
   "outputs": [
    {
     "data": {
      "text/plain": [
       "array(['FOODS', 'HOBBIES', 'HOUSEHOLD'], dtype=object)"
      ]
     },
     "execution_count": 337,
     "metadata": {},
     "output_type": "execute_result"
    }
   ],
   "source": [
    "df.cat_id.unique()"
   ]
  },
  {
   "cell_type": "code",
   "execution_count": 338,
   "id": "382f00eb-3cef-4502-9140-5cce0fb47923",
   "metadata": {},
   "outputs": [
    {
     "data": {
      "text/plain": [
       "date        datetime64[ns]\n",
       "store_id            object\n",
       "cat_id              object\n",
       "sales              float64\n",
       "dtype: object"
      ]
     },
     "execution_count": 338,
     "metadata": {},
     "output_type": "execute_result"
    }
   ],
   "source": [
    "df.dtypes"
   ]
  },
  {
   "cell_type": "code",
   "execution_count": 339,
   "id": "59642b7d-2cb7-4e06-8be6-414f660f92f6",
   "metadata": {},
   "outputs": [
    {
     "data": {
      "text/plain": [
       "DatetimeIndex(['2011-01-29', '2011-01-30', '2011-01-31', '2011-02-01',\n",
       "               '2011-02-02', '2011-02-03', '2011-02-04', '2011-02-05',\n",
       "               '2011-02-06', '2011-02-07',\n",
       "               ...\n",
       "               '2016-05-13', '2016-05-14', '2016-05-15', '2016-05-16',\n",
       "               '2016-05-17', '2016-05-18', '2016-05-19', '2016-05-20',\n",
       "               '2016-05-21', '2016-05-22'],\n",
       "              dtype='datetime64[ns]', length=1941, freq='D')"
      ]
     },
     "execution_count": 339,
     "metadata": {},
     "output_type": "execute_result"
    }
   ],
   "source": [
    "pd.date_range(start='2011-01-29', end='2016-05-22')"
   ]
  },
  {
   "cell_type": "code",
   "execution_count": 340,
   "id": "a7ee480d-b363-44b2-932d-7d02301b9073",
   "metadata": {},
   "outputs": [
    {
     "data": {
      "text/plain": [
       "False"
      ]
     },
     "execution_count": 340,
     "metadata": {},
     "output_type": "execute_result"
    }
   ],
   "source": [
    "df.duplicated().any()"
   ]
  },
  {
   "cell_type": "code",
   "execution_count": 341,
   "id": "9ad3d5df-a3a1-466b-b26d-1696d3fecf9a",
   "metadata": {},
   "outputs": [
    {
     "data": {
      "text/plain": [
       "date        0\n",
       "store_id    0\n",
       "cat_id      0\n",
       "sales       0\n",
       "dtype: int64"
      ]
     },
     "execution_count": 341,
     "metadata": {},
     "output_type": "execute_result"
    }
   ],
   "source": [
    "df.isna().sum()"
   ]
  },
  {
   "cell_type": "code",
   "execution_count": 342,
   "id": "800dc478-6681-45df-9b87-3e24b739cd06",
   "metadata": {},
   "outputs": [
    {
     "data": {
      "text/plain": [
       "date        0\n",
       "store_id    0\n",
       "cat_id      0\n",
       "sales       0\n",
       "dtype: int64"
      ]
     },
     "execution_count": 342,
     "metadata": {},
     "output_type": "execute_result"
    }
   ],
   "source": [
    "df.isnull().sum()"
   ]
  },
  {
   "cell_type": "code",
   "execution_count": 343,
   "id": "204b51b3-e69c-4311-a067-ea51bb2151b8",
   "metadata": {},
   "outputs": [
    {
     "name": "stdout",
     "output_type": "stream",
     "text": [
      "high 9589.36\n",
      "low -3606.020000000001\n"
     ]
    }
   ],
   "source": [
    "Q1 = df.sales.quantile(0.25)\n",
    "Q3 = df.sales.quantile(0.75)\n",
    "IQR = Q3 - Q1\n",
    "fence_low  = Q1-1.5*IQR\n",
    "fence_high = Q3+1.5*IQR\n",
    "print('high',fence_high)\n",
    "print('low',fence_low)"
   ]
  },
  {
   "cell_type": "code",
   "execution_count": 344,
   "id": "f4897ef1-fac7-4f12-8d31-2f4731888525",
   "metadata": {
    "tags": []
   },
   "outputs": [
    {
     "data": {
      "image/png": "[encoded data removed]",
      "text/plain": [
       "<Figure size 640x480 with 1 Axes>"
      ]
     },
     "metadata": {},
     "output_type": "display_data"
    }
   ],
   "source": [
    "import matplotlib.pyplot as plt\n",
    "plt.figure()\n",
    "df.boxplot(column=['sales'])\n",
    "plt.show()"
   ]
  },
  {
   "cell_type": "code",
   "execution_count": 345,
   "id": "24666ee1-f964-44b9-bbc5-e1290196039c",
   "metadata": {},
   "outputs": [
    {
     "data": {
      "text/plain": [
       "1598     10036.83\n",
       "6195      9683.29\n",
       "6251      9969.98\n",
       "6257     10122.12\n",
       "6265      9692.91\n",
       "           ...   \n",
       "54270     9835.70\n",
       "54298     9811.23\n",
       "54304    10419.92\n",
       "54339    10608.35\n",
       "54340    11517.60\n",
       "Name: sales, Length: 1455, dtype: float64"
      ]
     },
     "execution_count": 345,
     "metadata": {},
     "output_type": "execute_result"
    }
   ],
   "source": [
    "df.sales[df.sales > fence_high]"
   ]
  },
  {
   "cell_type": "code",
   "execution_count": 346,
   "id": "7dcdb37f-2ac8-4a28-8be0-f6595c3ba741",
   "metadata": {},
   "outputs": [
    {
     "name": "stderr",
     "output_type": "stream",
     "text": [
      "/home/kartheekraj/.pyenv/versions/3.7.13/envs/DL_prep-3.7.13/lib/python3.7/site-packages/ipykernel_launcher.py:1: SettingWithCopyWarning: \n",
      "A value is trying to be set on a copy of a slice from a DataFrame\n",
      "\n",
      "See the caveats in the documentation: https://pandas.pydata.org/pandas-docs/stable/user_guide/indexing.html#returning-a-view-versus-a-copy\n",
      "  \"\"\"Entry point for launching an IPython kernel.\n"
     ]
    }
   ],
   "source": [
    "df.sales[df.sales > fence_high]=0"
   ]
  },
  {
   "cell_type": "code",
   "execution_count": 347,
   "id": "5df5ade5-fd35-44fb-84f0-b77d24cad93f",
   "metadata": {},
   "outputs": [
    {
     "data": {
      "text/plain": [
       "330      0.0\n",
       "696      0.0\n",
       "1426     0.0\n",
       "1598     0.0\n",
       "2271     0.0\n",
       "        ... \n",
       "56619    0.0\n",
       "56985    0.0\n",
       "57350    0.0\n",
       "57715    0.0\n",
       "58080    0.0\n",
       "Name: sales, Length: 1580, dtype: float64"
      ]
     },
     "execution_count": 347,
     "metadata": {},
     "output_type": "execute_result"
    }
   ],
   "source": [
    "df.sales[df.sales == 0]"
   ]
  },
  {
   "cell_type": "code",
   "execution_count": 348,
   "id": "85b39b43-9368-483d-9966-8c127d0a1db0",
   "metadata": {
    "tags": []
   },
   "outputs": [
    {
     "data": {
      "image/png": "[encoded data removed]",
      "text/plain": [
       "<Figure size 640x480 with 1 Axes>"
      ]
     },
     "metadata": {},
     "output_type": "display_data"
    }
   ],
   "source": [
    "df.boxplot(column=['sales'])\n",
    "plt.show()"
   ]
  },
  {
   "cell_type": "code",
   "execution_count": 350,
   "id": "9617c761-09cc-433c-999f-235276d1e568",
   "metadata": {},
   "outputs": [],
   "source": [
    "df.sales=df.sales.interpolate(method='linear')"
   ]
  },
  {
   "cell_type": "code",
   "execution_count": 352,
   "id": "ebce9674-5825-4561-a1ab-8e84f82e52c2",
   "metadata": {},
   "outputs": [
    {
     "data": {
      "image/png": "[encoded data removed]",
      "text/plain": [
       "<Figure size 640x480 with 1 Axes>"
      ]
     },
     "metadata": {},
     "output_type": "display_data"
    }
   ],
   "source": [
    "df.boxplot(column=['sales'])\n",
    "plt.show()"
   ]
  },
  {
   "cell_type": "code",
   "execution_count": 353,
   "id": "437c9220-9b73-4b52-88d7-6dada1a61918",
   "metadata": {},
   "outputs": [],
   "source": [
    "df.to_csv('/home/kartheekraj/Timeseries/Deep_learning/Time_Series_Prep/DL_Prep/sales_processed.csv')"
   ]
  }
 ],
 "metadata": {
  "kernelspec": {
   "display_name": "Python 3 (ipykernel)",
   "language": "python",
   "name": "python3"
  },
  "language_info": {
   "codemirror_mode": {
    "name": "ipython",
    "version": 3
   },
   "file_extension": ".py",
   "mimetype": "text/x-python",
   "name": "python",
   "nbconvert_exporter": "python",
   "pygments_lexer": "ipython3",
   "version": "3.7.13"
  }
 },
 "nbformat": 4,
 "nbformat_minor": 5
}
